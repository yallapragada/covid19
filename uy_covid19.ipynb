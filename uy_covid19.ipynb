{
  "nbformat": 4,
  "nbformat_minor": 0,
  "metadata": {
    "colab": {
      "name": "uy_covid19.ipynb",
      "provenance": [],
      "private_outputs": true,
      "collapsed_sections": [
        "RXS8c9HxAEds",
        "pRf69nj6LMQ0",
        "l3utoKwfN3X_",
        "pLmdXtiLN_lB"
      ],
      "include_colab_link": true
    },
    "kernelspec": {
      "name": "python3",
      "display_name": "Python 3"
    }
  },
  "cells": [
    {
      "cell_type": "markdown",
      "metadata": {
        "id": "view-in-github",
        "colab_type": "text"
      },
      "source": [
        "<a href=\"https://colab.research.google.com/github/yallapragada/covid19/blob/master/uy_covid19.ipynb\" target=\"_parent\"><img src=\"https://colab.research.google.com/assets/colab-badge.svg\" alt=\"Open In Colab\"/></a>"
      ]
    },
    {
      "cell_type": "markdown",
      "metadata": {
        "id": "HgcmGqrWHiDG",
        "colab_type": "text"
      },
      "source": [
        "Analysis of daily report and timeline report of Johns Hopkins covid datasets."
      ]
    },
    {
      "cell_type": "code",
      "metadata": {
        "id": "yV6wYRvMxX0Z",
        "colab_type": "code",
        "colab": {}
      },
      "source": [
        "import pandas as pd\n",
        "from datetime import datetime, timedelta\n",
        "import matplotlib as mpl\n",
        "import matplotlib.pyplot as plt\n",
        "import seaborn as sns\n",
        "import pytz"
      ],
      "execution_count": 0,
      "outputs": []
    },
    {
      "cell_type": "code",
      "metadata": {
        "id": "Z1sPH1QqAQ1v",
        "colab_type": "code",
        "colab": {}
      },
      "source": [
        "# Use 3 decimal places in output display\n",
        "pd.set_option('display.precision', 3)"
      ],
      "execution_count": 0,
      "outputs": []
    },
    {
      "cell_type": "code",
      "metadata": {
        "id": "knoY5i-KrFB7",
        "colab_type": "code",
        "colab": {}
      },
      "source": [
        "# use matplotlib backend for plotting\n",
        "%matplotlib inline\n",
        "\n",
        "#use classic style in matplotlib\n",
        "plt.style.use('classic')\n",
        "\n",
        "#set seaborn style\n",
        "sns.set_style('white', {'legend.frameon':True})"
      ],
      "execution_count": 0,
      "outputs": []
    },
    {
      "cell_type": "markdown",
      "metadata": {
        "id": "RXS8c9HxAEds",
        "colab_type": "text"
      },
      "source": [
        "# USA - Daily Report"
      ]
    },
    {
      "cell_type": "markdown",
      "metadata": {
        "id": "taHtoKZvHEkZ",
        "colab_type": "text"
      },
      "source": [
        "Daily report provides us total # of cases and # of deaths per each state"
      ]
    },
    {
      "cell_type": "code",
      "metadata": {
        "id": "YukUAxisSmfe",
        "colab_type": "code",
        "colab": {}
      },
      "source": [
        "yesterday = (datetime.now(pytz.timezone('US/Eastern')) - timedelta(days=1)).strftime('%m-%d-%Y')\n",
        "today = datetime.now(pytz.timezone('US/Eastern')).strftime('%m-%d-%Y')"
      ],
      "execution_count": 0,
      "outputs": []
    },
    {
      "cell_type": "code",
      "metadata": {
        "id": "Zu3bSq4vT3Ul",
        "colab_type": "code",
        "colab": {}
      },
      "source": [
        "# github url for johns hopkins raw daily report (for US) \n",
        "base_url_daily_report = 'https://raw.githubusercontent.com/CSSEGISandData/COVID-19/master/csse_covid_19_data/csse_covid_19_daily_reports_us/'\n",
        "url_daily_report = base_url_daily_report + yesterday + '.csv'"
      ],
      "execution_count": 0,
      "outputs": []
    },
    {
      "cell_type": "code",
      "metadata": {
        "id": "1Qb1vqCSOWny",
        "colab_type": "code",
        "colab": {}
      },
      "source": [
        "# read daily report\n",
        "covid_daily_report = pd.read_csv(url_daily_report)\n",
        "\n",
        "# some columns have /, replace with _\n",
        "covid_daily_report.columns = covid_daily_report.columns.str.replace('/', '_')"
      ],
      "execution_count": 0,
      "outputs": []
    },
    {
      "cell_type": "code",
      "metadata": {
        "id": "OnHKgwkZ8BoE",
        "colab_type": "code",
        "colab": {}
      },
      "source": [
        "# plot deaths by state\n",
        "\n",
        "fig = plt.figure(figsize=(20,7))\n",
        "plt.xticks(\n",
        "    rotation=90, \n",
        "    horizontalalignment='right',\n",
        "    fontweight='light'\n",
        ")\n",
        "plt.box(False)\n",
        "plt.title(f'{today} - covid deaths')\n",
        "ax = sns.lineplot(x='Province_State', y='Deaths', data=covid_daily_report, hue=None, color='coral')\n",
        "ax.set(xlabel='state', ylabel='deaths')\n",
        "ax.grid(b=True, which='major', axis='both', color='green')\n",
        "plt.show()"
      ],
      "execution_count": 0,
      "outputs": []
    },
    {
      "cell_type": "code",
      "metadata": {
        "id": "O8OoohkP_SIa",
        "colab_type": "code",
        "colab": {}
      },
      "source": [
        "# plot cases by state\n",
        "\n",
        "fig = plt.figure(figsize=(20,7))\n",
        "plt.xticks(\n",
        "    rotation=90, \n",
        "    horizontalalignment='right',\n",
        "    fontweight='light'\n",
        ")\n",
        "plt.box(False)\n",
        "plt.title(f'{today} - covid cases')\n",
        "ax = sns.lineplot(x='Province_State', y='Confirmed', data=covid_daily_report, hue=None, color='coral')\n",
        "ax.set(xlabel='state', ylabel='cases')\n",
        "ax.grid(b=True, which='major', axis='both', color='green')\n",
        "plt.show()"
      ],
      "execution_count": 0,
      "outputs": []
    },
    {
      "cell_type": "markdown",
      "metadata": {
        "id": "IabivqlMAuHF",
        "colab_type": "text"
      },
      "source": [
        "# USA - Timeline Report"
      ]
    },
    {
      "cell_type": "markdown",
      "metadata": {
        "id": "sf5NGKUjK29m",
        "colab_type": "text"
      },
      "source": [
        "#### Macro picture of timeline data"
      ]
    },
    {
      "cell_type": "code",
      "metadata": {
        "id": "DMvv5csFDdWi",
        "colab_type": "code",
        "colab": {}
      },
      "source": [
        "# github url for johns hopkins timeline report (for US) \n",
        "time_series_url = 'https://raw.githubusercontent.com/CSSEGISandData/COVID-19/master/csse_covid_19_data/csse_covid_19_time_series/time_series_covid19_confirmed_US.csv'"
      ],
      "execution_count": 0,
      "outputs": []
    },
    {
      "cell_type": "code",
      "metadata": {
        "id": "noMEGdP2Dvyg",
        "colab_type": "code",
        "colab": {}
      },
      "source": [
        "# read time_series data\n",
        "covid_time_series_df = pd.read_csv(time_series_url)\n",
        "\n",
        "# some columns have /, replace with _\n",
        "covid_time_series_df.columns = covid_time_series_df.columns.str.replace('/', '_')"
      ],
      "execution_count": 0,
      "outputs": []
    },
    {
      "cell_type": "code",
      "metadata": {
        "id": "0LT_Gkc6c3wu",
        "colab_type": "code",
        "colab": {}
      },
      "source": [
        "# melt all those 'date' columns to a single column\n",
        "\n",
        "covid_time_series_df_melted = covid_time_series_df.melt(\n",
        "                                     id_vars=['UID', 'iso2', 'iso3', 'code3', 'FIPS', 'Admin2', 'Province_State', 'Country_Region', 'Lat', 'Long_', 'Combined_Key'], \n",
        "                                     var_name='Date', \n",
        "                                     value_name='Cases'\n",
        "                                    )"
      ],
      "execution_count": 0,
      "outputs": []
    },
    {
      "cell_type": "code",
      "metadata": {
        "id": "segdIF6IilKO",
        "colab_type": "code",
        "colab": {}
      },
      "source": [
        "# group by 'Date'\n",
        "dates_df = covid_time_series_df_melted.groupby(['Date']).sum()\n",
        "dates_df = dates_df.reset_index()\n",
        "\n",
        "# fix bad dates, we need the day to be 2 character always for good plots\n",
        "dates_df.Date = dates_df.Date.apply(lambda x: datetime.strptime(x, '%m_%d_%y').strftime('%-m_%d_%y'))\n",
        "\n",
        "# sort by date\n",
        "dates_df = dates_df.sort_values(by=['Date'])\n",
        "\n",
        "# add a column for new cases\n",
        "dates_df['New_Cases'] = dates_df.Cases.diff()\n",
        "\n",
        "# not much happened before march 10th in the US\n",
        "dates_df = dates_df.query('Date > \"3-10-2020\"')"
      ],
      "execution_count": 0,
      "outputs": []
    },
    {
      "cell_type": "code",
      "metadata": {
        "id": "PPXtIaBwQv4s",
        "colab_type": "code",
        "colab": {}
      },
      "source": [
        "# plot total cases and total new cases in the US\n",
        "\n",
        "fig, (ax1, ax2) = plt.subplots(2, 1, figsize=(20, 16), sharex=True)\n",
        "\n",
        "ax1.xaxis.set_tick_params(labelrotation=90)\n",
        "ax1.set_title(f'{today} - total covid cases in US')\n",
        "sns.lineplot('Date', 'Cases', data=dates_df, color='coral', ax=ax1)\n",
        "ax1.set(xlabel='date', ylabel='cases')\n",
        "ax1.grid(b=True, which='major', axis='both', color='green')\n",
        "\n",
        "ax2.xaxis.set_tick_params(labelrotation=90)\n",
        "ax2.set_title(f'{today} - new covid cases in US')\n",
        "sns.lineplot('Date', 'New_Cases', data=dates_df, color='coral', ax=ax2)\n",
        "ax2.set(xlabel='date', ylabel='new cases')\n",
        "ax2.grid(b=True, which='major', axis='both', color='green')\n",
        "\n",
        "plt.box(False)\n",
        "plt.show()"
      ],
      "execution_count": 0,
      "outputs": []
    },
    {
      "cell_type": "code",
      "metadata": {
        "id": "kYQCn46GfJiL",
        "colab_type": "code",
        "colab": {}
      },
      "source": [
        "# group by state\n",
        "\n",
        "covid_time_series_by_state_df = covid_time_series_df.groupby(['Province_State']).sum()"
      ],
      "execution_count": 0,
      "outputs": []
    },
    {
      "cell_type": "markdown",
      "metadata": {
        "id": "BRro04dfLB3O",
        "colab_type": "text"
      },
      "source": [
        "#### States with max relative change yesterday"
      ]
    },
    {
      "cell_type": "code",
      "metadata": {
        "id": "73SRjnc2zWbb",
        "colab_type": "code",
        "colab": {}
      },
      "source": [
        "# I want to find out top N states with max increase yesterday compared to previous 3 days average\n",
        "# there is probaby a better way to do this\n",
        "\n",
        "sdate = datetime(2020, 3, 10)   # start date\n",
        "edate = (datetime.today() - timedelta(days=1))   # end date\n",
        "\n",
        "delta = edate - sdate    # as timedelta\n",
        "\n",
        "print(sdate, edate, delta.days)\n",
        "\n",
        "days = [(sdate + timedelta(days=i)).strftime('%-m_%-d_%y') for i in range(delta.days+1)]\n",
        "\n",
        "day_minus_1 = days[-1]\n",
        "day_minus_2 = days[-2]\n",
        "day_minus_3 = days[-3]\n",
        "day_minus_4 = days[-4]\n",
        "day_minus_5 = days[-5]\n",
        "\n",
        "last_day_increase = (covid_time_series_by_state_df[day_minus_1] - covid_time_series_by_state_df[day_minus_2]) \n",
        "prev_3_day_aveage = ((covid_time_series_by_state_df[day_minus_2] - covid_time_series_by_state_df[day_minus_3]) + \n",
        "                     (covid_time_series_by_state_df[day_minus_3] - covid_time_series_by_state_df[day_minus_4]) + \n",
        "                     (covid_time_series_by_state_df[day_minus_4] - covid_time_series_by_state_df[day_minus_5]))/3\n",
        "last_day_increase_relative_percent = (last_day_increase/prev_3_day_aveage) * 100\n",
        "last_day_increase_relative_percent = last_day_increase_relative_percent.reset_index().fillna(value=0.0).rename(columns={0: \"ratio\"})"
      ],
      "execution_count": 0,
      "outputs": []
    },
    {
      "cell_type": "code",
      "metadata": {
        "id": "BAmcSbL-YqVH",
        "colab_type": "code",
        "colab": {}
      },
      "source": [
        "# print top 10 states with max relative change yesterday\n",
        "\n",
        "last_day_increase_relative_percent = last_day_increase_relative_percent.sort_values(by=['ratio'], ascending=False)\n",
        "print(last_day_increase_relative_percent.head(10))"
      ],
      "execution_count": 0,
      "outputs": []
    },
    {
      "cell_type": "code",
      "metadata": {
        "id": "NV-audM8CnFm",
        "colab_type": "code",
        "colab": {}
      },
      "source": [
        "# plot relative change\n",
        "\n",
        "plt.figure(figsize=(20,7))\n",
        "plt.xticks(\n",
        "    rotation=90, \n",
        "    horizontalalignment='right',\n",
        "    fontweight='light'\n",
        ")\n",
        "plt.box(False)\n",
        "plt.title(f'{today} : relative increase')\n",
        "ax = sns.lineplot('Province_State', 'ratio', data=last_day_increase_relative_percent, hue=None, color='coral')\n",
        "ax.set(xlabel='state', ylabel='relative increase')\n",
        "ax.grid(b=True, which='major', axis='both', color='green')\n",
        "plt.show()"
      ],
      "execution_count": 0,
      "outputs": []
    },
    {
      "cell_type": "markdown",
      "metadata": {
        "id": "pRf69nj6LMQ0",
        "colab_type": "text"
      },
      "source": [
        "#### State level analysis of covid data"
      ]
    },
    {
      "cell_type": "code",
      "metadata": {
        "id": "TFHlPT90o9Ql",
        "colab_type": "code",
        "colab": {}
      },
      "source": [
        "# melt the covid_time_series_by_state_df dataframe to change all those date columns to a single column\n",
        "\n",
        "covid_time_series_by_state_df = covid_time_series_by_state_df.reset_index()\n",
        "states_df = covid_time_series_by_state_df.melt(id_vars=['Province_State', 'UID', 'code3', 'FIPS', 'Lat', 'Long_'], var_name='Date', value_name='Cases')\n",
        "\n",
        "# fix dates\n",
        "states_df.Date = states_df.Date.apply(lambda x: datetime.strptime(x, '%m_%d_%y').strftime('%-m_%d_%y'))\n",
        "\n",
        "# select rows in march and april, sort by state and add a new column for new_cases\n",
        "states_df = states_df.query('Date > \"3-10-20\"')\n",
        "states_df = states_df.sort_values(by=['Province_State', 'Date'])\n",
        "states_df['New_Cases'] = states_df.Cases.diff()\n",
        "states_df = states_df.fillna(0)"
      ],
      "execution_count": 0,
      "outputs": []
    },
    {
      "cell_type": "code",
      "metadata": {
        "id": "yZdOLs0wAIEn",
        "colab_type": "code",
        "colab": {}
      },
      "source": [
        "states_of_interest1 = ['Virginia', 'Maryland', 'District of Columbia'] \n",
        "states_of_interest2 = list(last_day_increase_relative_percent.Province_State.values)[:5]\n",
        "\n",
        "states_of_interest_df1 = states_df.query('Province_State in @states_of_interest1')\n",
        "states_of_interest_df1 = states_of_interest_df1[states_of_interest_df1.Date > '4_01_20']\n",
        "\n",
        "states_of_interest_df2 = states_df.query('Province_State in @states_of_interest2')\n",
        "states_of_interest_df2 = states_of_interest_df2[states_of_interest_df2.Date > '4_01_20']"
      ],
      "execution_count": 0,
      "outputs": []
    },
    {
      "cell_type": "markdown",
      "metadata": {
        "id": "l3utoKwfN3X_",
        "colab_type": "text"
      },
      "source": [
        "##### DC, Virgina and Maryland"
      ]
    },
    {
      "cell_type": "code",
      "metadata": {
        "id": "vTdO67VsSKDL",
        "colab_type": "code",
        "colab": {}
      },
      "source": [
        "plt.figure(figsize=(20,7))\n",
        "plt.xticks(\n",
        "    rotation=90, \n",
        "    horizontalalignment='right',\n",
        "    fontweight='light'\n",
        ")\n",
        "plt.box(False)\n",
        "plt.title('new covid cases')\n",
        "ax = sns.lineplot('Date', 'New_Cases', data=states_of_interest_df1, hue='Province_State', color='coral', legend='brief', linewidth=4.0)\n",
        "ax.set(xlabel='state', ylabel='new cases')\n",
        "ax.grid(b=True, which='major', axis='both', color='green')\n",
        "\n",
        "leg = ax.legend()\n",
        "# get the individual lines inside legend and set line width\n",
        "for line in ax.get_lines():\n",
        "    line.set_linewidth(6)\n",
        "\n",
        "ax.legend(loc=2, frameon=False)\n",
        "plt.show()"
      ],
      "execution_count": 0,
      "outputs": []
    },
    {
      "cell_type": "markdown",
      "metadata": {
        "id": "pLmdXtiLN_lB",
        "colab_type": "text"
      },
      "source": [
        "##### Top 5 states with highest relative change yesterday"
      ]
    },
    {
      "cell_type": "code",
      "metadata": {
        "id": "YbSyd7t6DkxU",
        "colab_type": "code",
        "colab": {}
      },
      "source": [
        "plt.figure(figsize=(20,7))\n",
        "plt.xticks(\n",
        "    rotation=90, \n",
        "    horizontalalignment='right',\n",
        "    fontweight='light'\n",
        ")\n",
        "plt.box(False)\n",
        "plt.title('new covid cases')\n",
        "ax = sns.lineplot('Date', 'New_Cases', data=states_of_interest_df2, hue='Province_State', color='coral', legend='brief', linewidth=4.0)\n",
        "ax.set(xlabel='state', ylabel='new cases')\n",
        "ax.grid(b=True, which='major', axis='both', color='green')\n",
        "\n",
        "leg = ax.legend()\n",
        "# get the individual lines inside legend and set line width\n",
        "for line in ax.get_lines():\n",
        "    line.set_linewidth(6)\n",
        "\n",
        "ax.legend(loc=2, frameon=False)\n",
        "plt.show()"
      ],
      "execution_count": 0,
      "outputs": []
    }
  ]
}