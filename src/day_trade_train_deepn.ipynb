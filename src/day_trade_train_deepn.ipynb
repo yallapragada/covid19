{
  "nbformat": 4,
  "nbformat_minor": 0,
  "metadata": {
    "colab": {
      "name": "day_trade_train_deepn.ipynb",
      "provenance": [],
      "authorship_tag": "ABX9TyP78M5Pk+3127f1oHXADoKi",
      "include_colab_link": true
    },
    "kernelspec": {
      "name": "python3",
      "display_name": "Python 3"
    },
    "accelerator": "GPU"
  },
  "cells": [
    {
      "cell_type": "markdown",
      "metadata": {
        "id": "view-in-github",
        "colab_type": "text"
      },
      "source": [
        "<a href=\"https://colab.research.google.com/github/yallapragada/covid19/blob/master/src/day_trade_train_deepn.ipynb\" target=\"_parent\"><img src=\"https://colab.research.google.com/assets/colab-badge.svg\" alt=\"Open In Colab\"/></a>"
      ]
    },
    {
      "cell_type": "code",
      "metadata": {
        "id": "9qNvC3WPmxcJ"
      },
      "source": [
        "from keras.models import Sequential\r\n",
        "from keras.layers import Dense, Dropout\r\n",
        "import pandas as pd\r\n",
        "from sklearn.preprocessing import StandardScaler\r\n",
        "from sklearn.model_selection import train_test_split"
      ],
      "execution_count": null,
      "outputs": []
    },
    {
      "cell_type": "code",
      "metadata": {
        "id": "adAubYbUm-Ml"
      },
      "source": [
        "iex_stg2_output_file = '/ALL_TICKERS_STG2_OUT.CSV'\r\n",
        "dataset = pd.read_csv(iex_stg2_output_file)"
      ],
      "execution_count": null,
      "outputs": []
    },
    {
      "cell_type": "code",
      "metadata": {
        "id": "O70rpeeBrkTx"
      },
      "source": [
        "columns = list(dataset.columns)\r\n",
        "columns_to_standardize = columns[1:-1]\r\n",
        "dataset[columns_to_standardize] = StandardScaler().fit_transform(dataset[columns_to_standardize])"
      ],
      "execution_count": null,
      "outputs": []
    },
    {
      "cell_type": "code",
      "metadata": {
        "colab": {
          "base_uri": "https://localhost:8080/"
        },
        "id": "IE0K_dFiSH0h",
        "outputId": "341f085f-49c6-4de1-a79d-33f1b7378230"
      },
      "source": [
        "columns"
      ],
      "execution_count": null,
      "outputs": [
        {
          "output_type": "execute_result",
          "data": {
            "text/plain": [
              "['Unnamed: 0',\n",
              " 'price_diff_2_4',\n",
              " 'price_diff_4_6',\n",
              " 'price_diff_6_8',\n",
              " 'price_diff_8_10',\n",
              " 'price_diff_10_12',\n",
              " 'price_diff_12_14',\n",
              " 'price_diff_14_16',\n",
              " 'price_diff_16_18',\n",
              " 'price_diff_18_20',\n",
              " 'p_sma_12',\n",
              " 'p_sma_13',\n",
              " 'p_sma_23',\n",
              " 'p_ema_12',\n",
              " 'p_ema_13',\n",
              " 'p_ema_23',\n",
              " 'v_sma_12',\n",
              " 'v_sma_13',\n",
              " 'v_sma_23',\n",
              " 'v_ema_12',\n",
              " 'v_ema_13',\n",
              " 'v_ema_23',\n",
              " 'target']"
            ]
          },
          "metadata": {
            "tags": []
          },
          "execution_count": 8
        }
      ]
    },
    {
      "cell_type": "code",
      "metadata": {
        "id": "JqmpHW6qnMUt"
      },
      "source": [
        "#X = dataset.iloc[:, ].values\r\n",
        "X = dataset.loc[:,['p_sma_13', 'p_ema_13', 'v_sma_13', 'v_ema_13']]\r\n",
        "y = list(dataset.target)"
      ],
      "execution_count": null,
      "outputs": []
    },
    {
      "cell_type": "code",
      "metadata": {
        "colab": {
          "base_uri": "https://localhost:8080/"
        },
        "id": "DzIrcVjWncH9",
        "outputId": "2deb7db3-d88c-4ccf-ad01-419feff202b4"
      },
      "source": [
        "X.shape"
      ],
      "execution_count": null,
      "outputs": [
        {
          "output_type": "execute_result",
          "data": {
            "text/plain": [
              "(237799, 4)"
            ]
          },
          "metadata": {
            "tags": []
          },
          "execution_count": 17
        }
      ]
    },
    {
      "cell_type": "code",
      "metadata": {
        "id": "dMbZ3B0NsQNx"
      },
      "source": [
        "X_train, X_test, y_train, y_test = train_test_split(X, y, test_size=0.20, random_state=1)"
      ],
      "execution_count": null,
      "outputs": []
    },
    {
      "cell_type": "code",
      "metadata": {
        "id": "urQfy9Tgt3fx"
      },
      "source": [
        "import numpy as np"
      ],
      "execution_count": null,
      "outputs": []
    },
    {
      "cell_type": "code",
      "metadata": {
        "id": "J3JKypmGuE2f"
      },
      "source": [
        "X_train = np.asarray(X_train)\r\n",
        "y_train = np.asarray(y_train)"
      ],
      "execution_count": null,
      "outputs": []
    },
    {
      "cell_type": "code",
      "metadata": {
        "id": "yIWVR7gsnRPl"
      },
      "source": [
        "model = Sequential()\r\n",
        "model.add(Dense(24, input_dim=4, activation='relu'))\r\n",
        "model.add(Dropout(0.2))\r\n",
        "model.add(Dense(16, activation='relu'))\r\n",
        "model.add(Dropout(0.2))\r\n",
        "model.add(Dense(8, activation='relu'))\r\n",
        "model.add(Dense(1, activation='sigmoid'))"
      ],
      "execution_count": null,
      "outputs": []
    },
    {
      "cell_type": "code",
      "metadata": {
        "colab": {
          "base_uri": "https://localhost:8080/"
        },
        "id": "W64ktHb1rTPx",
        "outputId": "baf07b89-8ab8-4870-d3a6-4aa3c2ff8257"
      },
      "source": [
        "model.compile(loss='binary_crossentropy', optimizer='adam', metrics=['accuracy'])\r\n",
        "model.fit(X_train, y_train, epochs=50, batch_size=10, verbose=2)"
      ],
      "execution_count": null,
      "outputs": [
        {
          "output_type": "stream",
          "text": [
            "Epoch 1/50\n",
            "19024/19024 - 33s - loss: 0.6932 - accuracy: 0.5043\n",
            "Epoch 2/50\n",
            "19024/19024 - 34s - loss: 0.6929 - accuracy: 0.5064\n",
            "Epoch 3/50\n",
            "19024/19024 - 33s - loss: 0.6928 - accuracy: 0.5058\n",
            "Epoch 4/50\n",
            "19024/19024 - 33s - loss: 0.6928 - accuracy: 0.5043\n",
            "Epoch 5/50\n",
            "19024/19024 - 33s - loss: 0.6928 - accuracy: 0.5062\n",
            "Epoch 6/50\n",
            "19024/19024 - 33s - loss: 0.6928 - accuracy: 0.5053\n",
            "Epoch 7/50\n",
            "19024/19024 - 33s - loss: 0.6927 - accuracy: 0.5060\n",
            "Epoch 8/50\n",
            "19024/19024 - 33s - loss: 0.6928 - accuracy: 0.5059\n",
            "Epoch 9/50\n",
            "19024/19024 - 33s - loss: 0.6928 - accuracy: 0.5057\n",
            "Epoch 10/50\n",
            "19024/19024 - 33s - loss: 0.6928 - accuracy: 0.5072\n",
            "Epoch 11/50\n",
            "19024/19024 - 33s - loss: 0.6927 - accuracy: 0.5062\n",
            "Epoch 12/50\n",
            "19024/19024 - 33s - loss: 0.6928 - accuracy: 0.5050\n",
            "Epoch 13/50\n",
            "19024/19024 - 33s - loss: 0.6927 - accuracy: 0.5069\n",
            "Epoch 14/50\n",
            "19024/19024 - 33s - loss: 0.6927 - accuracy: 0.5061\n",
            "Epoch 15/50\n",
            "19024/19024 - 33s - loss: 0.6928 - accuracy: 0.5079\n",
            "Epoch 16/50\n",
            "19024/19024 - 33s - loss: 0.6928 - accuracy: 0.5057\n",
            "Epoch 17/50\n",
            "19024/19024 - 33s - loss: 0.6928 - accuracy: 0.5073\n",
            "Epoch 18/50\n",
            "19024/19024 - 33s - loss: 0.6928 - accuracy: 0.5069\n",
            "Epoch 19/50\n",
            "19024/19024 - 33s - loss: 0.6927 - accuracy: 0.5064\n",
            "Epoch 20/50\n",
            "19024/19024 - 33s - loss: 0.6928 - accuracy: 0.5063\n",
            "Epoch 21/50\n",
            "19024/19024 - 33s - loss: 0.6928 - accuracy: 0.5071\n",
            "Epoch 22/50\n",
            "19024/19024 - 33s - loss: 0.6928 - accuracy: 0.5057\n",
            "Epoch 23/50\n",
            "19024/19024 - 33s - loss: 0.6927 - accuracy: 0.5064\n",
            "Epoch 24/50\n",
            "19024/19024 - 33s - loss: 0.6928 - accuracy: 0.5056\n",
            "Epoch 25/50\n",
            "19024/19024 - 33s - loss: 0.6928 - accuracy: 0.5063\n",
            "Epoch 26/50\n",
            "19024/19024 - 33s - loss: 0.6927 - accuracy: 0.5067\n",
            "Epoch 27/50\n",
            "19024/19024 - 33s - loss: 0.6927 - accuracy: 0.5068\n",
            "Epoch 28/50\n",
            "19024/19024 - 33s - loss: 0.6927 - accuracy: 0.5064\n",
            "Epoch 29/50\n",
            "19024/19024 - 33s - loss: 0.6928 - accuracy: 0.5067\n",
            "Epoch 30/50\n",
            "19024/19024 - 33s - loss: 0.6927 - accuracy: 0.5061\n",
            "Epoch 31/50\n",
            "19024/19024 - 33s - loss: 0.6927 - accuracy: 0.5089\n",
            "Epoch 32/50\n",
            "19024/19024 - 34s - loss: 0.6928 - accuracy: 0.5067\n",
            "Epoch 33/50\n",
            "19024/19024 - 33s - loss: 0.6928 - accuracy: 0.5060\n",
            "Epoch 34/50\n",
            "19024/19024 - 33s - loss: 0.6927 - accuracy: 0.5059\n",
            "Epoch 35/50\n",
            "19024/19024 - 33s - loss: 0.6928 - accuracy: 0.5057\n",
            "Epoch 36/50\n",
            "19024/19024 - 33s - loss: 0.6927 - accuracy: 0.5066\n",
            "Epoch 37/50\n",
            "19024/19024 - 33s - loss: 0.6927 - accuracy: 0.5070\n",
            "Epoch 38/50\n",
            "19024/19024 - 33s - loss: 0.6928 - accuracy: 0.5069\n",
            "Epoch 39/50\n",
            "19024/19024 - 33s - loss: 0.6927 - accuracy: 0.5071\n",
            "Epoch 40/50\n",
            "19024/19024 - 33s - loss: 0.6928 - accuracy: 0.5077\n",
            "Epoch 41/50\n",
            "19024/19024 - 33s - loss: 0.6927 - accuracy: 0.5057\n",
            "Epoch 42/50\n",
            "19024/19024 - 33s - loss: 0.6928 - accuracy: 0.5057\n",
            "Epoch 43/50\n",
            "19024/19024 - 33s - loss: 0.6927 - accuracy: 0.5047\n",
            "Epoch 44/50\n",
            "19024/19024 - 33s - loss: 0.6927 - accuracy: 0.5049\n",
            "Epoch 45/50\n",
            "19024/19024 - 33s - loss: 0.6927 - accuracy: 0.5071\n",
            "Epoch 46/50\n",
            "19024/19024 - 33s - loss: 0.6927 - accuracy: 0.5064\n",
            "Epoch 47/50\n",
            "19024/19024 - 33s - loss: 0.6928 - accuracy: 0.5065\n",
            "Epoch 48/50\n",
            "19024/19024 - 33s - loss: 0.6927 - accuracy: 0.5062\n",
            "Epoch 49/50\n",
            "19024/19024 - 33s - loss: 0.6928 - accuracy: 0.5053\n",
            "Epoch 50/50\n",
            "19024/19024 - 33s - loss: 0.6928 - accuracy: 0.5045\n"
          ],
          "name": "stdout"
        },
        {
          "output_type": "execute_result",
          "data": {
            "text/plain": [
              "<tensorflow.python.keras.callbacks.History at 0x7ff440390588>"
            ]
          },
          "metadata": {
            "tags": []
          },
          "execution_count": 22
        }
      ]
    },
    {
      "cell_type": "code",
      "metadata": {
        "id": "14sXWc7FuMjA"
      },
      "source": [
        ""
      ],
      "execution_count": null,
      "outputs": []
    }
  ]
}